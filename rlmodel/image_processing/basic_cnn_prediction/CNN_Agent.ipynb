{
 "cells": [
  {
   "cell_type": "markdown",
   "id": "210d6d81",
   "metadata": {},
   "source": [
    "# CNN Agent"
   ]
  },
  {
   "cell_type": "markdown",
   "id": "36eefa3f",
   "metadata": {},
   "source": [
    "This notebook is used to evaluate the CNN model trained from `Basic_CNN.ipynb`. In this notebook, we used our best TD3 4 joints RL model as the agent and using image acquired from the simulation to retrieve ground truth. "
   ]
  },
  {
   "cell_type": "code",
   "execution_count": null,
   "id": "eca2962c",
   "metadata": {},
   "outputs": [],
   "source": [
    "import sys\n",
    "sys.path.append('/tum_nrp/grpc/python/communication')\n",
    "sys.path.append('./src')\n",
    "sys.path.append('/tum_nrp/rlmodel/sb3')\n",
    "\n",
    "import experiment_api_wrapper as eaw\n",
    "import torch\n",
    "from torch.utils.tensorboard import SummaryWriter\n",
    "import numpy as np\n",
    "from stable_baselines3 import TD3\n",
    "\n",
    "from stable_baselines3.her.her_replay_buffer import HerReplayBuffer\n",
    "from stable_baselines3.her.goal_selection_strategy import GoalSelectionStrategy\n",
    "\n",
    "from network import Model\n",
    "from env_cnn import SimGoalEnv\n",
    "from train_helpers import evaluate3\n",
    "\n",
    "%load_ext autoreload\n",
    "%autoreload 2\n",
    "%load_ext tensorboard"
   ]
  },
  {
   "cell_type": "code",
   "execution_count": null,
   "id": "6367433f",
   "metadata": {},
   "outputs": [],
   "source": [
    "# test the connection with the simulation\n",
    "\n",
    "exp = eaw.ExperimentWrapper()\n",
    "\n",
    "server_id = exp.client.test()\n",
    "if server_id:\n",
    "    print(f\"Simulation is available, id: {server_id}.\")\n",
    "else:\n",
    "    print(\"There's something wrong with the sim!\")"
   ]
  },
  {
   "cell_type": "code",
   "execution_count": null,
   "id": "9c1dd0bd",
   "metadata": {},
   "outputs": [],
   "source": [
    "# set the parameters\n",
    "\n",
    "params = {\n",
    "    \"VERBOSE\": 1,\n",
    "    \"SETTING\": 'full_constrained',                 # 'reduced', 'reduced2', 'reduced3', 'reduced3+', 'reduced4', 'reduced4+', 'full'\n",
    "    \"OBJ_SPACE_LOW\": np.array([-0.92, -0.51, 0.58, -0.44, -0.48, 0, -np.pi/2, -np.pi/2, -0.001, -np.pi/2, -0.001, -np.pi]), # observation-space (ee-pos, cyl-pos, joints)\n",
    "    \"OBJ_SPACE_HIGH\": np.array([0.92, 1.32, 2.07, 0.48, 0.44, 1.12, np.pi/2, 0.001, np.pi, np.pi/2, np.pi, np.pi]),\n",
    "    \"SPACE_NORM\": 1,                   #  1 -> yes, 0 -> no (normalize the action and observation space)\n",
    "    \"CYLINDER\": 'whole_table',         # 'no'(no augmentation), fix', 'semi_random', 'semi_random_sides', 'half_table', '3/4-table', '7/8-table', 'whole_table'\n",
    "    \"BUFFER_SIZE\": 2000,\n",
    "    \"THRESHOLD\": 0.20,                  # initial treshold\n",
    "    \"THRESHOLD_SCHEDULING\": 1,         # 1-> yes, 0-> no\n",
    "    \"MIN_THRESHOLD\": 0.02,\n",
    "    \"REWARD_TYPE\": 'dense',            # 'sparse', 'dense', 'extra_dense'\n",
    "    \"LEARNING_STARTS\": 100,            # number of random movements before learning starts,#\n",
    "    \"TOGGLE_REWARD\": 0,\n",
    "    \"STEPS\": 10000,                     # number of steps while training (=num_episodes when MAX_EPISODE_LEGTH is 1)\n",
    "    \"MAX_EPISODE_LENGTH\": 1,           # 'None' (no limit) or value \n",
    "    \"EXPLORATION\": 1,                  # just let it on 1 and ignore it\n",
    "    \"USE_HER\": 1,                      # 1-> yes, 0-> no\n",
    "    \"GLOBAL_STEPPER\": 0, \n",
    "    \"EVALUATION_STEPS\": 500,        # number of evaluation steps per investigates treshold (x4)\n",
    "    \"EVALS\": [0.20, 0.15, 0.10, 0.05],  # here, the list MUST contain always 4 tresholds for evaluation\n",
    "    \"BATCH_SIZE\": 100,\n",
    "    \"ACTION_NOISE\": None,\n",
    "    \"LR\": 1e-3,\n",
    "    # td3 specific\n",
    "    \"TARGET_POLICY_NOISE\": 0.2,\n",
    "    \"TARGET_NOISE_CLIP\": 0.5, \n",
    "    #CNN specific\n",
    "    \"hidden_channel\": 20,              #Number of hidden channels in CNN layer\n",
    "    \"hidden_layer\": 100               #Number of hidden layers in FC layer\n",
    "}"
   ]
  },
  {
   "cell_type": "code",
   "execution_count": null,
   "id": "4448e6ab",
   "metadata": {},
   "outputs": [],
   "source": [
    "# create an environment\n",
    "\n",
    "writer = SummaryWriter('logs/agent')\n",
    "\n",
    "model = Model(params)\n",
    "model.load_state_dict(torch.load(\"saved_models/cnn_model\", map_location=torch.device('cpu')))\n",
    "print(\"The CNN model is loaded.\")\n",
    "\n",
    "env = SimGoalEnv(exp, params, writer, model)\n",
    "\n",
    "# model type\n",
    "model_class = TD3\n",
    "\n",
    "# HER goal selection strategy\n",
    "goal_selection_strategy = 'future'\n",
    "\n",
    "# if True the HER transitions will get sampled online\n",
    "online_sampling = True\n",
    "\n",
    "# time limit for the episodes\n",
    "max_episode_length = 1\n",
    "\n",
    "# model\n",
    "model = model_class(\n",
    "    \"MultiInputPolicy\",\n",
    "    env,\n",
    "    learning_rate=params[\"LR\"],\n",
    "    buffer_size=params[\"BUFFER_SIZE\"],\n",
    "    learning_starts=params[\"LEARNING_STARTS\"],\n",
    "    batch_size=params[\"BATCH_SIZE\"],\n",
    "    action_noise=params[\"ACTION_NOISE\"],\n",
    "    replay_buffer_class=HerReplayBuffer,\n",
    "    # Parameters for HER\n",
    "    replay_buffer_kwargs=dict(\n",
    "        n_sampled_goal=4,\n",
    "        goal_selection_strategy=goal_selection_strategy,\n",
    "        online_sampling=online_sampling,\n",
    "        max_episode_length=max_episode_length),\n",
    "    target_policy_noise=params[\"TARGET_POLICY_NOISE\"], \n",
    "    target_noise_clip=params[\"TARGET_NOISE_CLIP\"], \n",
    "    tensorboard_log=\"logs/agent_model\",\n",
    "    verbose=params[\"VERBOSE\"]\n",
    ")"
   ]
  },
  {
   "cell_type": "code",
   "execution_count": null,
   "id": "5eee8ea1",
   "metadata": {},
   "outputs": [],
   "source": [
    "# load best RL model\n",
    "\n",
    "load_file_name = \"TD3_0.2_dense_reduced4+_10000_20210729-123802\"\n",
    "\n",
    "model = TD3.load('../../sb3/saved_models/'+load_file_name, env=env)"
   ]
  },
  {
   "cell_type": "code",
   "execution_count": null,
   "id": "505b173f",
   "metadata": {
    "scrolled": true
   },
   "outputs": [],
   "source": [
    "# evaluate\n",
    "\n",
    "env.set_eval(ev=True)\n",
    "\n",
    "evaluate3(model, env, params, writer, max_threshold = max(params[\"EVALS\"]))"
   ]
  }
 ],
 "metadata": {
  "kernelspec": {
   "display_name": "Python 3",
   "language": "python",
   "name": "python3"
  },
  "language_info": {
   "codemirror_mode": {
    "name": "ipython",
    "version": 3
   },
   "file_extension": ".py",
   "mimetype": "text/x-python",
   "name": "python",
   "nbconvert_exporter": "python",
   "pygments_lexer": "ipython3",
   "version": "3.8.10"
  }
 },
 "nbformat": 4,
 "nbformat_minor": 5
}
