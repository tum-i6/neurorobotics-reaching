{
 "cells": [
  {
   "cell_type": "markdown",
   "metadata": {},
   "source": [
    "# Image Processing"
   ]
  },
  {
   "cell_type": "markdown",
   "metadata": {},
   "source": [
    "This notebook is an introduction on how to use the image API and the image dataset."
   ]
  },
  {
   "cell_type": "markdown",
   "metadata": {},
   "source": [
    "# Image API"
   ]
  },
  {
   "cell_type": "markdown",
   "metadata": {},
   "source": [
    "The image API is contained in the /tum_nrp/grpc/python/communication/experiment_api_wrapper.py and is supposed to be used in the RL container."
   ]
  },
  {
   "cell_type": "code",
   "execution_count": 1,
   "metadata": {},
   "outputs": [],
   "source": [
    "import sys\n",
    "sys.path.append(\"../../grpc/python/communication\")\n",
    "\n",
    "%load_ext autoreload\n",
    "%autoreload 2"
   ]
  },
  {
   "cell_type": "code",
   "execution_count": 2,
   "metadata": {},
   "outputs": [],
   "source": [
    "import experiment_api_wrapper as eaw\n",
    "import matplotlib.pyplot as plt\n",
    "import time"
   ]
  },
  {
   "cell_type": "code",
   "execution_count": 3,
   "metadata": {},
   "outputs": [],
   "source": [
    "#Initializing the experiment_api_wrapper instance\n",
    "exp = eaw.ExperimentWrapper()"
   ]
  },
  {
   "cell_type": "code",
   "execution_count": 4,
   "metadata": {},
   "outputs": [
    {
     "data": {
      "text/plain": [
       "[0.1900056004524231, -0.2301107794046402, 1.120728611946106]"
      ]
     },
     "execution_count": 4,
     "metadata": {},
     "output_type": "execute_result"
    }
   ],
   "source": [
    "#Resetting the table position and randomly resetting cylinder position\n",
    "exp.setup()"
   ]
  },
  {
   "cell_type": "code",
   "execution_count": 5,
   "metadata": {},
   "outputs": [
    {
     "name": "stdout",
     "output_type": "stream",
     "text": [
      "The shape of the image is (120, 120, 3)\n",
      "Image type is <class 'numpy.ndarray'>\n"
     ]
    },
    {
     "data": {
      "image/png": "[encoded data removed]",
      "text/plain": [
       "<Figure size 640x480 with 1 Axes>"
      ]
     },
     "metadata": {},
     "output_type": "display_data"
    }
   ],
   "source": [
    "#Resetting the cylinder position\n",
    "exp.cylinder.random_reset()\n",
    "#Waiting for the resetting to complete\n",
    "time.sleep(0.5)\n",
    "#Getting the image from the simulation\n",
    "img = exp.camera.get_image()\n",
    "\n",
    "#The image is a numpy array of shape (120x120x3)\n",
    "print(f'The shape of the image is {img.shape}')\n",
    "print(f'Image type is {type(img)}')\n",
    "\n",
    "plt.imshow(img)\n",
    "plt.show()"
   ]
  },
  {
   "cell_type": "markdown",
   "metadata": {},
   "source": [
    "# Image datasets"
   ]
  },
  {
   "cell_type": "code",
   "execution_count": 6,
   "metadata": {},
   "outputs": [],
   "source": [
    "import torch\n",
    "\n",
    "training_data = torch.load(\"data/training_data.pt\")"
   ]
  },
  {
   "cell_type": "code",
   "execution_count": 7,
   "metadata": {},
   "outputs": [
    {
     "name": "stdout",
     "output_type": "stream",
     "text": [
      "The number of data amount: 2000.\n",
      "The type and shape of image: <class 'torch.Tensor'>, torch.Size([120, 120, 3]).\n",
      "The ground truth data: [-0.3900830149650574, -0.4100848436355591, 1.1198643445968628] \n",
      " and its type: <class 'list'>.\n"
     ]
    }
   ],
   "source": [
    "print(f'The number of data amount: {len(training_data)}.')\n",
    "\n",
    "print(f'The type and shape of image: {type(training_data[0][0])}, {training_data[0][0].shape}.')\n",
    "\n",
    "print(f'The ground truth data: {training_data[0][1]} \\n and its type: {type(training_data[0][1])}.')"
   ]
  }
 ],
 "metadata": {
  "interpreter": {
   "hash": "28dde0d5fff2530ed57b53805ac390931f1aea44caed51b7395b5c99d14a0ed7"
  },
  "kernelspec": {
   "display_name": "Python 3",
   "language": "python",
   "name": "python3"
  },
  "language_info": {
   "codemirror_mode": {
    "name": "ipython",
    "version": 3
   },
   "file_extension": ".py",
   "mimetype": "text/x-python",
   "name": "python",
   "nbconvert_exporter": "python",
   "pygments_lexer": "ipython3",
   "version": "3.8.5"
  }
 },
 "nbformat": 4,
 "nbformat_minor": 2
}
