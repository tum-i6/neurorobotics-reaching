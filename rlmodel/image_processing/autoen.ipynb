{
 "cells": [
  {
   "cell_type": "code",
   "execution_count": 1,
   "metadata": {
    "_cell_guid": "79c7e3d0-c299-4dcb-8224-4455121ee9b0",
    "_uuid": "d629ff2d2480ee46fbb7e2d37f6b5fab8052498a"
   },
   "outputs": [],
   "source": [
    "# Base numerical operations\n",
    "import numpy as np\n",
    "\n",
    "# Plotting\n",
    "try:\n",
    "    import matplotlib.pyplot as plt\n",
    "except ModuleNotFoundError: \n",
    "    !pip install matplotlib==3.4.2\n",
    "    import matplotlib.pyplot as plt\n",
    "%matplotlib inline\n",
    "\n",
    "# Encoder and Decoder\n",
    "import torch\n",
    "import torch.nn as nn\n",
    "import torch.nn.functional as F\n",
    "import torch.optim as optim\n",
    "\n",
    "# Data Set\n",
    "import os\n",
    "import glob\n",
    "\n",
    "# Data handling and plotting\n",
    "# In the current version of CMLR skimage is not installed\n",
    "try:\n",
    "    from skimage import io\n",
    "except ModuleNotFoundError:\n",
    "    !pip install scikit-image\n",
    "    from skimage import io\n",
    "    \n",
    "from torch.utils.data import Dataset\n",
    "\n",
    "# Dataloading and augmentation\n",
    "# In the current version of CMLR torchvision is not installed\n",
    "try:\n",
    "    import torchvision \n",
    "except ModuleNotFoundError: \n",
    "    !pip install torchvision==0.10.0\n",
    "    import torchvision\n",
    "from torch.utils.data import DataLoader\n",
    "from torchvision import datasets, transforms\n",
    "\n",
    "\n",
    "# PyTorch Lightning\n",
    "# In the current version of CMLR pytorch_lightning is not installed\n",
    "\n",
    "try:\n",
    "    import pytorch_lightning as pl\n",
    "except ModuleNotFoundError: \n",
    "    !pip install pytorch-lightning==1.3.4\n",
    "    import pytorch_lightning as pl\n",
    "from pytorch_lightning.callbacks import LearningRateMonitor, ModelCheckpoint\n",
    "\n",
    "# Setup tensorboard logging\n",
    "from pytorch_lightning.loggers import TensorBoardLogger"
   ]
  },
  {
   "cell_type": "code",
   "execution_count": 2,
   "metadata": {},
   "outputs": [],
   "source": [
    "device = torch.device('cuda' if torch.cuda.is_available() else 'cpu')"
   ]
  },
  {
   "cell_type": "markdown",
   "metadata": {},
   "source": [
    "# Custom Datasets"
   ]
  },
  {
   "cell_type": "markdown",
   "metadata": {},
   "source": [
    "### Sanity Dataset"
   ]
  },
  {
   "cell_type": "markdown",
   "metadata": {},
   "source": [
    "The sanity dataset is used to check the functionality of the autoencoder. It creats `nr_samples` many zero numpy matrixes of `width` and `height` width a square box of onces of size `object_size` x `object_size`."
   ]
  },
  {
   "cell_type": "code",
   "execution_count": 3,
   "metadata": {},
   "outputs": [],
   "source": [
    "class CMLRSanityDataset(Dataset):\n",
    "    def __init__(self, nr_samples, width, height, object_size, single_channel= True, transform=None):\n",
    "        \"\"\" Initializes the dataset.\n",
    "        \n",
    "            Args:\n",
    "                nr_samples: Number of samples that should be created\n",
    "                width: width that the sample should have\n",
    "                height: height that the sample should have\n",
    "                object_size: size of the artefact that is to be displayed in each sample (square withe box)\n",
    "                single_channel: if true, the sample will be of dim [1, widht, height]\n",
    "                transform: a pytorch transform compose\n",
    "        \"\"\"\n",
    "        self.nr_samples = nr_samples \n",
    "        self.width = width\n",
    "        self.height = height\n",
    "        self.object_size = object_size\n",
    "        self.transform = transform\n",
    "        self.rows = np.random.randint(low=0, high=self.width-object_size, size=(nr_samples))\n",
    "        self.cols = np.random.randint(low=0, high=self.width-object_size, size=(nr_samples))\n",
    "        self.single_channel = single_channel\n",
    "        \n",
    "    def __getitem__(self, i):\n",
    "        img = np.zeros((self.width, self.height))\n",
    "        img[self.cols[i]:self.cols[i]+self.object_size, self.rows[i]:self.rows[i]+self.object_size] = np.ones((self.object_size, self.object_size))\n",
    "        if self.single_channel:\n",
    "            x = torch.tensor(img).unsqueeze(0)\n",
    "        else:\n",
    "            x = np.dstack((img,img,img))\n",
    "            x = torch.tensor(img).permute(2, 0, 1)\n",
    "        if self.transform:\n",
    "            x = self.transform(x)\n",
    "        return x\n",
    "        \n",
    "    def __len__(self):\n",
    "        #return self.len\n",
    "        return self.rows.shape[0]"
   ]
  },
  {
   "cell_type": "markdown",
   "metadata": {},
   "source": [
    "### Base Dataset"
   ]
  },
  {
   "cell_type": "markdown",
   "metadata": {},
   "source": [
    "The basic image dataset. Reads the image data from the provided .pi file and applies the transformations."
   ]
  },
  {
   "cell_type": "code",
   "execution_count": 4,
   "metadata": {},
   "outputs": [],
   "source": [
    "class CMLRPiDataset(Dataset):\n",
    "    def __init__(self, root_dir, data_pi_name, transform=None):\n",
    "        \"\"\" Initializes the dataset.\n",
    "        \n",
    "            Args:\n",
    "                root_dir: path to root directory\n",
    "                data_pi_name: name of the .pi data file\n",
    "                mask_pi_name: name of the .pi masking file - image used to mask out the background\n",
    "        \"\"\"\n",
    "        \n",
    "        # set class variables\n",
    "        self.transform = transform\n",
    "        \n",
    "        # retrive training images\n",
    "        trainings_data = torch.load(os.path.join(root_dir, data_pi_name))\n",
    "        self.data = [img for img, label in trainings_data]\n",
    "    \n",
    "    def __getitem__(self, index):        \n",
    "        # permute for transform operations\n",
    "        x = self.data[index].permute(2, 0, 1)\n",
    "        if self.transform:\n",
    "            x = self.transform(x)\n",
    "        return x\n",
    "        \n",
    "    def __len__(self):\n",
    "        #return self.len\n",
    "        return len(self.data)"
   ]
  },
  {
   "cell_type": "markdown",
   "metadata": {},
   "source": [
    "# Custome Transformations"
   ]
  },
  {
   "cell_type": "markdown",
   "metadata": {},
   "source": [
    "Custom transformations classes that can be applied to the datasets as part of pytorch's `transform.compose[()]`."
   ]
  },
  {
   "cell_type": "code",
   "execution_count": 5,
   "metadata": {},
   "outputs": [],
   "source": [
    "class AddGaussianNoise(object):\n",
    "    # Adds Gaussian Noise to a sample.\n",
    "    def __init__(self, mean=0., std=1.):\n",
    "        self.std = std\n",
    "        self.mean = mean\n",
    "        \n",
    "    def __call__(self, tensor):\n",
    "        noise = torch.randn(tensor.size()) * self.std + self.mean\n",
    "        noise_min = torch.min(noise)\n",
    "        tensor = tensor + noise\n",
    "        tensor[tensor >= 1.0-noise_min] = 1.0\n",
    "        tensor[tensor < 0.] = 0\n",
    "        return tensor\n",
    "    \n",
    "    def __repr__(self):\n",
    "        return self.__class__.__name__ + '(mean={0}, std={1})'.format(self.mean, self.std)"
   ]
  },
  {
   "cell_type": "markdown",
   "metadata": {},
   "source": [
    "### Utility functions\n"
   ]
  },
  {
   "cell_type": "code",
   "execution_count": 6,
   "metadata": {},
   "outputs": [],
   "source": [
    "# Utility functions\n",
    "def inverse_normalize(tensor, mean, std):\n",
    "    \"\"\" Reverses the image normalization introduced by pytorch transforms.Normalize(mean, std)\n",
    "    \n",
    "        Args:\n",
    "            tensor: the image to be denormalized\n",
    "            mean: The mean value\n",
    "            std: 1/sdt value\n",
    "    \"\"\"\n",
    "    if isinstance(mean, float) and isinstance(std, float):\n",
    "        tensor.mul_(std).add_(mean)\n",
    "    else:\n",
    "        for t, m, s in zip(tensor, mean, std):\n",
    "            t.mul_(s).add_(m)\n",
    "    return tensor\n",
    "\n",
    "def get_train_images(num, dataset):\n",
    "    \"\"\" Retrives num many images from the dataset. The data set is randomized.\n",
    "        However, the image retrivel is index based and therefore will allways return the same image for given seed.\n",
    "    \"\"\"\n",
    "    return torch.stack([dataset.dataset[i] for i in range(num)], dim=0)\n",
    "\n",
    "# helper function to un-normalize and display an image\n",
    "def imshow(img, mean, std):\n",
    "    \"\"\" Denormalize and plot image \n",
    "    \n",
    "        Args:\n",
    "            img: the image to be denormalized\n",
    "            mean: The mean value\n",
    "            std: 1/sdt value\n",
    "    \n",
    "    \"\"\"\n",
    "    img = inverse_normalize(tensor=img, mean=mean, std=std)\n",
    "    plt.imshow(img)#.permute(1, 2, 0) )  # convert from Tensor image\n",
    "\n",
    "def compare_imgs(img1, img2, title_prefix=\"\"):\n",
    "    \"\"\" Calculates the loss between to images and plots them side by side\n",
    "    \n",
    "        Args:\n",
    "            img1: first image\n",
    "            img2: second image\n",
    "            title_prefix: title prefix\n",
    "    \n",
    "    \"\"\"\n",
    "    # Calculate MSE loss between both images\n",
    "    loss = F.mse_loss(img1, img2, reduction=\"sum\")\n",
    "    # Plot images for visual comparison\n",
    "    grid = torchvision.utils.make_grid(torch.stack([img1, img2], dim=0), nrow=2, normalize=True, range=(-1,1))\n",
    "    grid = grid.permute(1, 2, 0)\n",
    "    plt.figure(figsize=(4,2))\n",
    "    plt.title(\"%s Loss: %4.2f\" % (title_prefix, loss.item()))\n",
    "    plt.imshow(grid)\n",
    "    plt.axis('off')\n",
    "    plt.show()\n"
   ]
  },
  {
   "cell_type": "markdown",
   "metadata": {},
   "source": [
    "### Setup and Configurations"
   ]
  },
  {
   "cell_type": "code",
   "execution_count": 7,
   "metadata": {
    "scrolled": true
   },
   "outputs": [
    {
     "name": "stderr",
     "output_type": "stream",
     "text": [
      "Global seed set to 42\n"
     ]
    }
   ],
   "source": [
    "# number of workers for the dataloader\n",
    "num_workers = 0\n",
    "\n",
    "# batch size\n",
    "batch_size = 32\n",
    "\n",
    "# width and height of the imput data\n",
    "width = 64\n",
    "height = 64\n",
    "\n",
    "# number of channels of the input data\n",
    "nr_channels = 1\n",
    "\n",
    "# setting used by the normalization transform function\n",
    "if nr_channels == 1: \n",
    "    mean=0.5\n",
    "    std=0.5\n",
    "else:\n",
    "    mean=(0.5, 0.5, 0.5)\n",
    "    std=(0.5, 0.5, 0.5)\n",
    "\n",
    "\n",
    "# Data tranformations\n",
    "transform = transforms.Compose([\n",
    "    transforms.ToPILImage(),                                          # convert to PIL image\n",
    "    #transforms.CenterCrop((100,100)),                                # make sure only the table surface is visible\n",
    "    transforms.Resize((width, height), interpolation=torchvision.transforms.InterpolationMode.NEAREST), # adjust the image size                          # resize the image\n",
    "    transforms.Grayscale(num_output_channels=nr_channels),            # adjust number of channels\n",
    "    transforms.ToTensor(),                                            # convert to torch tensor\n",
    "    #transforms.RandomHorizontalFlip(p=0.5),                          # randomly flip images to increase the variation of the data\n",
    "    #transforms.RandomVerticalFlip(p=0.5),\n",
    "    #transforms.RandomErasing(p=0.9, scale=(0.008, 0.008), ratio=(1.0, 1.0), value=0.15), # add cylinder like artifacts to the images\n",
    "    #transforms.RandomErasing(p=0.9, scale=(0.005, 0.008), ratio=(1.0, 1.0), value=0.2), \n",
    "    #AddGaussianNoise(0.0, 0.2),                                      # add gaussian noise to the images to reduce the impact of the background\n",
    "    transforms.Normalize(mean, std)                                   # normalize the images\n",
    "])\n",
    "\n",
    "# Path to the folder where the datasets are/should be downloaded (e.g. CIFAR10)\n",
    "DATASET_PATH = \"../image_processing/data/\"\n",
    "# Path to the folder where the pretrained models are saved\n",
    "CHECKPOINT_PATH = \"/saved_models/\"\n",
    "\n",
    "# Setting the seed - make sure that the results are reproducibil\n",
    "pl.seed_everything(42)\n",
    "\n",
    "# Ensure that all operations are deterministic on GPU (if used) for reproducibility\n",
    "torch.backends.cudnn.determinstic = True\n",
    "torch.backends.cudnn.benchmark = False"
   ]
  },
  {
   "cell_type": "code",
   "execution_count": 8,
   "metadata": {},
   "outputs": [],
   "source": [
    "# create the dataset\n",
    "dataset = CMLRPiDataset(\n",
    "    root_dir=DATASET_PATH,\n",
    "    data_pi_name ='training_data.pt',\n",
    "    transform=transform\n",
    ")\n",
    "\n",
    "# To test the functionality of the autoencoder simple uncomment the dataset below\n",
    "'''\n",
    "dataset = CMLRSanityDataset(\n",
    "        3000,\n",
    "        64,\n",
    "        64,\n",
    "        15,\n",
    "        single_channel=True,\n",
    "        transform=transform\n",
    "    )\n",
    "'''\n",
    "\n",
    "# retrive the number of samples in the dataset \n",
    "dataset_len = dataset.__len__()\n",
    "\n",
    "\n",
    "# split the dataset in test train and valdatuion\n",
    "train_set, test_set, val_set = torch.utils.data.random_split(dataset, [int(dataset.__len__()*0.7), \n",
    "                                                                       int(dataset.__len__()*0.2), \n",
    "                                                                       (dataset.__len__()-int(dataset.__len__()*0.9))])\n",
    "\n",
    "# definition of the corresponding data loaders\n",
    "train_loader = DataLoader(train_set, batch_size=batch_size, shuffle=True, drop_last=True, pin_memory=True, num_workers=num_workers)\n",
    "val_loader = DataLoader(val_set, batch_size=batch_size, shuffle=False, drop_last=False, num_workers=num_workers)\n",
    "test_loader = DataLoader(test_set, batch_size=batch_size, shuffle=False, drop_last=False, num_workers=num_workers)\n"
   ]
  },
  {
   "cell_type": "markdown",
   "metadata": {},
   "source": [
    "## Visualize the data"
   ]
  },
  {
   "cell_type": "markdown",
   "metadata": {},
   "source": [
    "### Sample images"
   ]
  },
  {
   "cell_type": "code",
   "execution_count": 9,
   "metadata": {},
   "outputs": [
    {
     "data": {
      "image/png": "[encoded data removed]",
      "text/plain": [
       "<Figure size 504x504 with 20 Axes>"
      ]
     },
     "metadata": {},
     "output_type": "display_data"
    }
   ],
   "source": [
    "# obtain one batch of training images\n",
    "dataiter = iter(train_loader)\n",
    "images = dataiter.next()\n",
    "\n",
    "fig = plt.figure(figsize=(7, 7))\n",
    "\n",
    "# display 20 images\n",
    "for idx in np.arange(20):\n",
    "    ax = fig.add_subplot(4, 5, idx+1, xticks=[], yticks=[])\n",
    "    imshow(images[idx].permute(1,2,0), std, std)"
   ]
  },
  {
   "cell_type": "markdown",
   "metadata": {},
   "source": [
    "### Similarity test based on MSE loss"
   ]
  },
  {
   "cell_type": "markdown",
   "metadata": {},
   "source": [
    "This test helps to evaluate which loss function should be used. "
   ]
  },
  {
   "cell_type": "code",
   "execution_count": 10,
   "metadata": {},
   "outputs": [
    {
     "name": "stderr",
     "output_type": "stream",
     "text": [
      "/usr/local/lib/python3.8/dist-packages/torchvision/utils.py:50: UserWarning: range will be deprecated, please use value_range instead.\n",
      "  warnings.warn(warning)\n"
     ]
    },
    {
     "data": {
      "image/png": "[encoded data removed]",
      "text/plain": [
       "<Figure size 288x144 with 1 Axes>"
      ]
     },
     "metadata": {
      "needs_background": "light"
     },
     "output_type": "display_data"
    },
    {
     "data": {
      "image/png": "[encoded data removed]",
      "text/plain": [
       "<Figure size 288x144 with 1 Axes>"
      ]
     },
     "metadata": {
      "needs_background": "light"
     },
     "output_type": "display_data"
    },
    {
     "data": {
      "image/png": "[encoded data removed]",
      "text/plain": [
       "<Figure size 288x144 with 1 Axes>"
      ]
     },
     "metadata": {
      "needs_background": "light"
     },
     "output_type": "display_data"
    },
    {
     "data": {
      "image/png": "[encoded data removed]",
      "text/plain": [
       "<Figure size 288x144 with 1 Axes>"
      ]
     },
     "metadata": {
      "needs_background": "light"
     },
     "output_type": "display_data"
    },
    {
     "data": {
      "image/png": "[encoded data removed]",
      "text/plain": [
       "<Figure size 288x144 with 1 Axes>"
      ]
     },
     "metadata": {
      "needs_background": "light"
     },
     "output_type": "display_data"
    },
    {
     "data": {
      "image/png": "[encoded data removed]",
      "text/plain": [
       "<Figure size 288x144 with 1 Axes>"
      ]
     },
     "metadata": {
      "needs_background": "light"
     },
     "output_type": "display_data"
    }
   ],
   "source": [
    "for i in range(2):\n",
    "    # Load example image\n",
    "    \n",
    "    img1 = dataset[i]\n",
    "    img2 = dataset[i+10]\n",
    "    compare_imgs(img1, img2, \"Different -\")\n",
    "    \n",
    "    img = dataset[i]\n",
    "    img_mean = img.mean(dim=[1,2], keepdims=True)\n",
    "    # Shift image by one pixel\n",
    "    SHIFT = 1\n",
    "    img_shifted = torch.roll(img, shifts=SHIFT, dims=1)\n",
    "    img_shifted = torch.roll(img_shifted, shifts=SHIFT, dims=2)\n",
    "    img_shifted[:,:1,:] = img_mean\n",
    "    img_shifted[:,:,:1] = img_mean\n",
    "    compare_imgs(img, img_shifted, \"Shifted -\")\n",
    "\n",
    "    # Set half of the image to zero\n",
    "    img_masked = img.clone()\n",
    "    img_masked[:,:img_masked.shape[1]//2,:] = img_mean\n",
    "    compare_imgs(img, img_masked, \"Masked -\")"
   ]
  },
  {
   "cell_type": "markdown",
   "metadata": {},
   "source": [
    "## CNN Model"
   ]
  },
  {
   "cell_type": "markdown",
   "metadata": {},
   "source": [
    "### Encoder"
   ]
  },
  {
   "cell_type": "code",
   "execution_count": 11,
   "metadata": {},
   "outputs": [],
   "source": [
    "class Encoder(nn.Module):\n",
    "    \n",
    "    def __init__(self, \n",
    "                 num_input_channels : int, \n",
    "                 base_channel_size : int, \n",
    "                 latent_dim : int, \n",
    "                 act_fn : object = nn.GELU):\n",
    "        \"\"\"\n",
    "        Inputs: \n",
    "            - num_input_channels : Number of input channels of the image. \n",
    "            - base_channel_size : Number of channels we use in the first convolutional layers. Deeper layers might use a duplicate of it.\n",
    "            - latent_dim : Dimensionality of latent representation z\n",
    "            - act_fn : Activation function used throughout the encoder network\n",
    "        \"\"\"\n",
    "        super().__init__()\n",
    "        c_hid = base_channel_size\n",
    "        # Setup squential encoder\n",
    "        self.net = nn.Sequential(\n",
    "            nn.Conv2d(num_input_channels, c_hid, 3, padding=1), # 32x32 => 32x32\n",
    "            act_fn(),\n",
    "            nn.MaxPool2d(2, 2), # 32x32 => 16x16 \n",
    "            nn.Conv2d(c_hid, c_hid*2, 3, padding=1), # 16x16 => 16x16\n",
    "            act_fn(),\n",
    "            nn.MaxPool2d(2, 2), # 16x16 => 8x8 \n",
    "            nn.Conv2d(c_hid*2, c_hid, 3, padding=1), # 8x8 => 8x8\n",
    "            act_fn(),\n",
    "            nn.MaxPool2d(2, 2), # 4x4 => 4x4 \n",
    "            nn.Flatten(), # Image grid to single feature vector\n",
    "            nn.Linear(8*8*c_hid, latent_dim)\n",
    "        )\n",
    "    \n",
    "    def forward(self, x):\n",
    "        return self.net(x)"
   ]
  },
  {
   "cell_type": "markdown",
   "metadata": {},
   "source": [
    "### Decoder"
   ]
  },
  {
   "cell_type": "code",
   "execution_count": 12,
   "metadata": {},
   "outputs": [],
   "source": [
    "class Decoder(nn.Module):\n",
    "    \n",
    "    def __init__(self, \n",
    "                 num_input_channels : int, \n",
    "                 base_channel_size : int, \n",
    "                 latent_dim : int, \n",
    "                 act_fn : object = nn.ReLU):\n",
    "        \"\"\"\n",
    "        Inputs: \n",
    "            - num_input_channels : Number of channels of the image to reconstruct. For CIFAR, this parameter is 3\n",
    "            - base_channel_size : Number of channels we use in the last convolutional layers. Early layers might use a duplicate of it.\n",
    "            - latent_dim : Dimensionality of latent representation z\n",
    "            - act_fn : Activation function used throughout the decoder network\n",
    "        \"\"\"\n",
    "        super().__init__()\n",
    "        c_hid = base_channel_size\n",
    "        self.linear = nn.Sequential(\n",
    "            nn.Linear(latent_dim, 8*8*c_hid),# 64 x 64\n",
    "            act_fn()\n",
    "        )\n",
    "        # Setup squential decoder\n",
    "        self.net = nn.Sequential(\n",
    "            nn.ConvTranspose2d(c_hid, c_hid*2, 2, stride=2),\n",
    "            act_fn(),\n",
    "            nn.ConvTranspose2d(c_hid*2, c_hid, 2, stride=2),\n",
    "            act_fn(),\n",
    "            nn.ConvTranspose2d(c_hid, num_input_channels, 2, stride=2),\n",
    "            nn.Sigmoid() # The input images is scaled between -1 and 1, hence the output has to be bounded as well\n",
    "        )\n",
    "    \n",
    "    def forward(self, x):\n",
    "        x = self.linear(x)\n",
    "        x = x.reshape(x.shape[0], -1, 8, 8) # 64 x 64\n",
    "        x = self.net(x)\n",
    "        return x"
   ]
  },
  {
   "cell_type": "code",
   "execution_count": 13,
   "metadata": {},
   "outputs": [],
   "source": [
    "def weights_init(m):\n",
    "    if isinstance(m, nn.Conv2d):\n",
    "        torch.nn.init.xavier_uniform_(m.weight)\n",
    "        torch.nn.init.zeros_(m.bias)\n",
    "    if isinstance(m, nn.Linear):\n",
    "        torch.nn.init.xavier_uniform_(m.weight)\n",
    "        m.bias.data.fill_(0.1)"
   ]
  },
  {
   "cell_type": "markdown",
   "metadata": {},
   "source": [
    "### Autoencoder"
   ]
  },
  {
   "cell_type": "code",
   "execution_count": 14,
   "metadata": {},
   "outputs": [],
   "source": [
    "class Autoencoder(pl.LightningModule):\n",
    "    \n",
    "    def __init__(self, \n",
    "                 base_channel_size: int, \n",
    "                 latent_dim: int, \n",
    "                 encoder_class : object = Encoder,\n",
    "                 decoder_class : object = Decoder,\n",
    "                 num_input_channels: int = nr_channels, \n",
    "                 width: int = 64, \n",
    "                 height: int = 64):\n",
    "        super().__init__()\n",
    "        # Saving hyperparameters of autoencoder\n",
    "        self.save_hyperparameters() \n",
    "        # Creating encoder and decoder\n",
    "        self.encoder = encoder_class(num_input_channels, base_channel_size, latent_dim)\n",
    "        self.encoder.apply(weights_init)\n",
    "        self.decoder = decoder_class(num_input_channels, base_channel_size, latent_dim)\n",
    "        self.decoder.apply(weights_init)\n",
    "        \n",
    "        \n",
    "        # Example input array needed for visualizing the graph of the network\n",
    "        self.example_input_array = torch.zeros(2, num_input_channels, width, height)\n",
    "        \n",
    "        self.l1_loss = torch.nn.L1Loss()#'reduction='sum')\n",
    "        \n",
    "    def forward(self, x):\n",
    "        \"\"\"\n",
    "        The forward function takes in an image and returns the reconstructed image\n",
    "        \"\"\"\n",
    "        z = self.encoder(x)\n",
    "        x_hat = self.decoder(z)\n",
    "        return x_hat\n",
    "    \n",
    "    def _get_reconstruction_loss(self, batch):\n",
    "        \"\"\"\n",
    "        Given a batch of images, this function returns the reconstruction loss (MSE in our case)\n",
    "        \"\"\"\n",
    "        x = batch # We do not need the labels only the images\n",
    "        x_hat = self.forward(x)\n",
    "        loss = F.mse_loss(x, x_hat, reduction=\"none\")\n",
    "        loss = torch.nn.functional.huber_loss(x, x_hat, reduction='none', delta=0.01)\n",
    "        loss = loss.sum(dim=[1,2,3]).mean(dim=[0])\n",
    "        #loss = self.l1_loss(x, x_hat) # uncomment this line and comment out the previous three lines to use l1 loss\n",
    "        return loss\n",
    "    \n",
    "    def configure_optimizers(self):\n",
    "        optimizer = optim.Adam(self.parameters(), lr=8e-3)\n",
    "        # Using a scheduler is optional but can be helpful.\n",
    "        # The scheduler reduces the LR if the validation performance hasn't improved for the last N epochs\n",
    "        scheduler = optim.lr_scheduler.ReduceLROnPlateau(optimizer, \n",
    "                                                         mode='min', \n",
    "                                                         factor=0.1, \n",
    "                                                         patience=10, \n",
    "                                                         min_lr=5e-5)\n",
    "        return {\"optimizer\": optimizer, \"lr_scheduler\": scheduler, \"monitor\": \"val_loss\"}\n",
    "    \n",
    "    def training_step(self, batch, batch_idx):\n",
    "        loss = self._get_reconstruction_loss(batch) \n",
    "        # Add the trainings loss to tensoboard via the logger\n",
    "        self.log('train_loss', loss)\n",
    "        return loss\n",
    "    \n",
    "    def validation_step(self, batch, batch_idx):\n",
    "        loss = self._get_reconstruction_loss(batch)\n",
    "        # Add the validation loss to tensoboard via the logger\n",
    "        self.log('val_loss', loss)\n",
    "    \n",
    "    def test_step(self, batch, batch_idx):\n",
    "        loss = self._get_reconstruction_loss(batch)\n",
    "        # Add the test loss to tensoboard via the logger\n",
    "        self.log('test_loss', loss)\n",
    "        \n",
    "    def feature_extraction(self, x):\n",
    "        return self.encoder(x)"
   ]
  },
  {
   "cell_type": "code",
   "execution_count": 15,
   "metadata": {},
   "outputs": [],
   "source": [
    "class GenerateCallback(pl.Callback):\n",
    "    \n",
    "    def __init__(self, input_imgs, every_n_epochs=1):\n",
    "        super().__init__()\n",
    "        self.input_imgs = input_imgs # Images to reconstruct during training\n",
    "        self.every_n_epochs = every_n_epochs # Only save those images every N epochs (otherwise tensorboard gets quite large)\n",
    "        \n",
    "    def on_epoch_end(self, trainer, pl_module):\n",
    "        \"\"\" \n",
    "        Reconstruct image and campare against original\n",
    "        This hock is called every time a epoch ends it is activated every nth epoch.\n",
    "        \"\"\"\n",
    "        if trainer.current_epoch % self.every_n_epochs == 0:\n",
    "            # Reconstruct images\n",
    "            input_imgs = self.input_imgs.to(pl_module.device)\n",
    "            with torch.no_grad():\n",
    "                pl_module.eval()\n",
    "                reconst_imgs = pl_module(input_imgs)\n",
    "                pl_module.train()\n",
    "            # Plot and add to tensorboard\n",
    "            imgs = torch.stack([input_imgs, reconst_imgs], dim=1).flatten(0,1)\n",
    "            grid = torchvision.utils.make_grid(imgs, nrow=2, normalize=True, range=(-1,1))\n",
    "            # Using the logger of the trainer to add the reconstructed image to the tensorboard\n",
    "            trainer.logger.experiment.add_image(\"Reconstructions\", grid, global_step=trainer.global_step)\n",
    "            # Output current reconstruction\n",
    "            #compare_imgs(imgs[0], imgs[1], \"Different -\")"
   ]
  },
  {
   "cell_type": "code",
   "execution_count": 16,
   "metadata": {},
   "outputs": [],
   "source": [
    "def train_cmlr(latent_dim):\n",
    "    # Create a PyTorch Lightning trainer with the generation callback\n",
    "    trainer = pl.Trainer(default_root_dir=os.path.join(CHECKPOINT_PATH, \"cmlr_%i\" % latent_dim), \n",
    "                         #accumulate_grad_batches=32,\n",
    "                         gpus=0, \n",
    "                         max_epochs=200, \n",
    "                         logger=logger,\n",
    "                         # Save the model weights, reconstruct image every 10th epoch, logge the LR every epoch \n",
    "                         callbacks=[ModelCheckpoint(save_weights_only=True, verbose=False, dirpath=os.path.join(CHECKPOINT_PATH, \"cmlr_%i\" % latent_dim)),\n",
    "                                    GenerateCallback(get_train_images(10,test_loader), every_n_epochs=5),\n",
    "                                    LearningRateMonitor(\"epoch\")])\n",
    "    # If True, we plot the computation graph in tensorboard\n",
    "    trainer.logger._log_graph = True         \n",
    "    # Optional logging argument that we don't need\n",
    "    trainer.logger._default_hp_metric = None \n",
    "    \n",
    "    # Check whether pretrained model exists. If yes, load it and skip training\n",
    "    saved_models = os.path.join(CHECKPOINT_PATH, \"cmlr_%i\" % latent_dim)\n",
    "    if len(sorted(glob.glob(os.path.join(saved_models, '*.ckpt')))) > 0:\n",
    "        pretrained_filename=sorted(glob.glob(os.path.join(saved_models, '*.ckpt')))[0]    \n",
    "    else:\n",
    "        pretrained_filename=\" \"\n",
    "    \n",
    "    #if os.path.isfile(pretrained_filename):\n",
    "    #    print(\"Found pretrained model, loading...\")\n",
    "    #    model = Autoencoder.load_from_checkpoint(pretrained_filename)\n",
    "    #else:\n",
    "    model = Autoencoder(base_channel_size=32, latent_dim=latent_dim, width=width, height=height) # for 64x64 base_channel_size=32\n",
    "    print(model)\n",
    "    trainer.fit(model, train_loader, val_loader)\n",
    "    # Test best model on validation and test set\n",
    "    val_result = trainer.test(model, test_dataloaders=val_loader, verbose=False)\n",
    "    test_result = trainer.test(model, test_dataloaders=test_loader, verbose=False)\n",
    "    result = {\"test\": test_result, \"val\": val_result}\n",
    "    return model, result"
   ]
  },
  {
   "cell_type": "code",
   "execution_count": null,
   "metadata": {
    "scrolled": false
   },
   "outputs": [
    {
     "name": "stderr",
     "output_type": "stream",
     "text": [
      "GPU available: False, used: False\n",
      "TPU available: False, using: 0 TPU cores\n",
      "/usr/local/lib/python3.8/dist-packages/torch/nn/functional.py:718: UserWarning: Named tensors and all their associated APIs are an experimental feature and subject to change. Please do not use them for anything important until they are released as stable. (Triggered internally at  /pytorch/c10/core/TensorImpl.h:1156.)\n",
      "  return torch.max_pool2d(input, kernel_size, stride, padding, dilation, ceil_mode)\n"
     ]
    },
    {
     "name": "stdout",
     "output_type": "stream",
     "text": [
      "Autoencoder(\n",
      "  (encoder): Encoder(\n",
      "    (net): Sequential(\n",
      "      (0): Conv2d(1, 32, kernel_size=(3, 3), stride=(1, 1), padding=(1, 1))\n",
      "      (1): GELU()\n",
      "      (2): MaxPool2d(kernel_size=2, stride=2, padding=0, dilation=1, ceil_mode=False)\n",
      "      (3): Conv2d(32, 64, kernel_size=(3, 3), stride=(1, 1), padding=(1, 1))\n",
      "      (4): GELU()\n",
      "      (5): MaxPool2d(kernel_size=2, stride=2, padding=0, dilation=1, ceil_mode=False)\n",
      "      (6): Conv2d(64, 32, kernel_size=(3, 3), stride=(1, 1), padding=(1, 1))\n",
      "      (7): GELU()\n",
      "      (8): MaxPool2d(kernel_size=2, stride=2, padding=0, dilation=1, ceil_mode=False)\n",
      "      (9): Flatten(start_dim=1, end_dim=-1)\n",
      "      (10): Linear(in_features=2048, out_features=16, bias=True)\n",
      "    )\n",
      "  )\n",
      "  (decoder): Decoder(\n",
      "    (linear): Sequential(\n",
      "      (0): Linear(in_features=16, out_features=2048, bias=True)\n",
      "      (1): ReLU()\n",
      "    )\n",
      "    (net): Sequential(\n",
      "      (0): ConvTranspose2d(32, 64, kernel_size=(2, 2), stride=(2, 2))\n",
      "      (1): ReLU()\n",
      "      (2): ConvTranspose2d(64, 32, kernel_size=(2, 2), stride=(2, 2))\n",
      "      (3): ReLU()\n",
      "      (4): ConvTranspose2d(32, 1, kernel_size=(2, 2), stride=(2, 2))\n",
      "      (5): Sigmoid()\n",
      "    )\n",
      "  )\n",
      "  (l1_loss): L1Loss()\n",
      ")\n"
     ]
    },
    {
     "name": "stderr",
     "output_type": "stream",
     "text": [
      "\n",
      "  | Name    | Type    | Params | In sizes       | Out sizes     \n",
      "----------------------------------------------------------------------\n",
      "0 | encoder | Encoder | 70.1 K | [2, 1, 64, 64] | [2, 16]       \n",
      "1 | decoder | Decoder | 51.4 K | [2, 16]        | [2, 1, 64, 64]\n",
      "2 | l1_loss | L1Loss  | 0      | ?              | ?             \n",
      "----------------------------------------------------------------------\n",
      "121 K     Trainable params\n",
      "0         Non-trainable params\n",
      "121 K     Total params\n",
      "0.486     Total estimated model params size (MB)\n"
     ]
    },
    {
     "data": {
      "application/vnd.jupyter.widget-view+json": {
       "model_id": "",
       "version_major": 2,
       "version_minor": 0
      },
      "text/plain": [
       "Validation sanity check: 0it [00:00, ?it/s]"
      ]
     },
     "metadata": {},
     "output_type": "display_data"
    },
    {
     "name": "stderr",
     "output_type": "stream",
     "text": [
      "Global seed set to 42\n"
     ]
    },
    {
     "data": {
      "application/vnd.jupyter.widget-view+json": {
       "model_id": "6e619d88759d4ce481bfc17f527a15d7",
       "version_major": 2,
       "version_minor": 0
      },
      "text/plain": [
       "Training: 0it [00:00, ?it/s]"
      ]
     },
     "metadata": {},
     "output_type": "display_data"
    }
   ],
   "source": [
    "model_dict = {}\n",
    "for latent_dim in [16,32]:\n",
    "    logger = TensorBoardLogger(\"tb_logs\", name=\"cmlr_autoencoder_ld_{}\".format(latent_dim))\n",
    "    model_ld, result_ld = train_cmlr(latent_dim)\n",
    "    model_dict[latent_dim] = {\"model\": model_ld, \"result\": result_ld}"
   ]
  },
  {
   "cell_type": "markdown",
   "metadata": {},
   "source": [
    "## Extract Latten Space Representation"
   ]
  },
  {
   "cell_type": "code",
   "execution_count": null,
   "metadata": {},
   "outputs": [],
   "source": [
    "ls_dim = 16\n",
    "saved_models = os.path.join(CHECKPOINT_PATH, \"cmlr_%i\" % latent_dim)\n",
    "path=sorted(glob.glob(os.path.join(saved_models, '*.ckpt')))[0]   \n",
    "\n",
    "if os.path.isfile(path):\n",
    "    print(\"Found pretrained model, loading...\")\n",
    "    model = Autoencoder.load_from_checkpoint(path)\n",
    "    model.freeze()\n",
    "    \n",
    "    dataiter = iter(train_loader)\n",
    "    images = dataiter.next()\n",
    "\n",
    "    x = model.feature_extraction(images)\n",
    "    print(x.shape)\n",
    "else:\n",
    "    print(\"Did not find the model\")"
   ]
  },
  {
   "cell_type": "markdown",
   "metadata": {},
   "source": [
    "## Validate the Models"
   ]
  },
  {
   "cell_type": "code",
   "execution_count": null,
   "metadata": {},
   "outputs": [],
   "source": [
    "# Plot the reconstruction score against the latten space dimension for the different models\n",
    "latent_dims = sorted([k for k in model_dict])\n",
    "val_scores = [model_dict[k][\"result\"][\"val\"][0][\"test_loss\"] for k in latent_dims]\n",
    "\n",
    "fig = plt.figure(figsize=(6,4))\n",
    "plt.plot(latent_dims, val_scores, '--', color=\"#000\", marker=\"*\", markeredgecolor=\"#000\", markerfacecolor=\"y\", markersize=16)\n",
    "plt.xscale(\"log\")\n",
    "plt.xticks(latent_dims, labels=latent_dims)\n",
    "plt.title(\"Reconstruction error over latent dimensionality\", fontsize=14)\n",
    "plt.xlabel(\"Latent dimensionality\")\n",
    "plt.ylabel(\"Reconstruction error\")\n",
    "plt.minorticks_off()\n",
    "plt.ylim(0,10)\n",
    "plt.show()"
   ]
  },
  {
   "cell_type": "code",
   "execution_count": null,
   "metadata": {},
   "outputs": [],
   "source": [
    "def visualize_reconstructions(model, input_imgs):\n",
    "    # Reconstruct images\n",
    "    model.eval()\n",
    "    with torch.no_grad():\n",
    "        reconst_imgs = model(input_imgs.to(model.device))\n",
    "    reconst_imgs = reconst_imgs.cpu()\n",
    "    \n",
    "    # Plotting\n",
    "    imgs = torch.stack([input_imgs, reconst_imgs], dim=1).flatten(0,1)\n",
    "    grid = torchvision.utils.make_grid(imgs, nrow=4, normalize=True, range=(-1,1))\n",
    "    grid = grid.permute(1, 2, 0)\n",
    "    plt.figure(figsize=(7,4.5))\n",
    "    plt.title(\"Reconstructed from %i latents\" % (model.hparams.latent_dim))\n",
    "    plt.imshow(grid)\n",
    "    plt.axis('off')\n",
    "    plt.show()"
   ]
  },
  {
   "cell_type": "code",
   "execution_count": null,
   "metadata": {},
   "outputs": [],
   "source": [
    "input_imgs = get_train_images(4, test_loader)\n",
    "for latent_dim in model_dict:\n",
    "    visualize_reconstructions(model_dict[latent_dim][\"model\"], input_imgs)"
   ]
  },
  {
   "cell_type": "markdown",
   "metadata": {},
   "source": [
    "# Ergebnisse"
   ]
  },
  {
   "attachments": {
    "image-2.png": {
     "image/png": "[encoded data removed]"
    },
    "image.png": {
     "image/png": "[encoded data removed]"
    }
   },
   "cell_type": "markdown",
   "metadata": {},
   "source": [
    "- image_dim: 64x64\n",
    "- latten_dim: 32\n",
    "- base_channel_size: 32\n",
    "- initialization: xavia\n",
    "- transformation: 2 x crop square\n",
    "- LR schedular:\n",
    "-- factor: 0.1 \n",
    "-- patience: 10 \n",
    "-- min_lr:5e-5\n",
    "- loss: MSE\n",
    "\n",
    "\n",
    "No change after 60 Epochs (loss at about 3.1 for 30 epochs).\n",
    "![image-2.png](attachment:image-2.png)\n",
    "![image.png](attachment:image.png)"
   ]
  },
  {
   "cell_type": "code",
   "execution_count": null,
   "metadata": {},
   "outputs": [],
   "source": []
  }
 ],
 "metadata": {
  "kernelspec": {
   "display_name": "Python 3",
   "language": "python",
   "name": "python3"
  },
  "language_info": {
   "codemirror_mode": {
    "name": "ipython",
    "version": 3
   },
   "file_extension": ".py",
   "mimetype": "text/x-python",
   "name": "python",
   "nbconvert_exporter": "python",
   "pygments_lexer": "ipython3",
   "version": "3.8.5"
  }
 },
 "nbformat": 4,
 "nbformat_minor": 1
}
