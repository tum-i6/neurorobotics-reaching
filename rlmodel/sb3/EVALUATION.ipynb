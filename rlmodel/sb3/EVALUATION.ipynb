{
 "cells": [
  {
   "cell_type": "markdown",
   "id": "539c8c92",
   "metadata": {},
   "source": [
    "# Choose Model to evaluate"
   ]
  },
  {
   "cell_type": "code",
   "execution_count": null,
   "id": "3189b530",
   "metadata": {},
   "outputs": [],
   "source": [
    "model_to_eval = None\n",
    "#######\n",
    "# TD3 #\n",
    "#######\n",
    "model_to_eval = \"TD3\"          # -> best TD3 model (4 joints)\n",
    "\n",
    "#######\n",
    "# SAC #\n",
    "#######\n",
    "# model_to_eval = \"SAC_4joints\"  # -> best SAC model (4 joints)\n",
    "# model_to_eval = \"SAC_6joints\"  # -> best SAC model (6 joints)\n",
    "\n",
    "####################\n",
    "# evaluation steps #\n",
    "####################\n",
    "eval_steps = 500"
   ]
  },
  {
   "cell_type": "markdown",
   "id": "4bb1275f",
   "metadata": {},
   "source": [
    "# Imports"
   ]
  },
  {
   "cell_type": "code",
   "execution_count": null,
   "id": "897b0cb8",
   "metadata": {},
   "outputs": [],
   "source": [
    "# general imports\n",
    "import sys                       \n",
    "import numpy as np                \n",
    "\n",
    "# gym for spaces and environment definitions\n",
    "import gym\n",
    "# env checker\n",
    "from stable_baselines3.common import env_checker\n",
    "\n",
    "# stable baselines3 -> SAC, TD3\n",
    "from stable_baselines3 import SAC\n",
    "from stable_baselines3 import TD3\n",
    "from stable_baselines3.sac import MlpPolicy\n",
    "\n",
    "# stbale baselines3 -> HER\n",
    "from stable_baselines3.her.her_replay_buffer import HerReplayBuffer\n",
    "from stable_baselines3.her.goal_selection_strategy import GoalSelectionStrategy\n",
    "\n",
    "# Tensorboard\n",
    "from torch.utils.tensorboard import SummaryWriter\n",
    "writer = SummaryWriter('tensorboard_log/',comment=\"-SAC_HER_buff20000\")\n",
    "\n",
    "# grpc communication\n",
    "sys.path.insert(1, '/tum_nrp/grpc/python/communication')\n",
    "import experiment_api_wrapper as eaw\n",
    "\n",
    "# for auto-reloading external modules see http://stackoverflow.com/questions/1907993/autoreload-of-modules-in-ipython\n",
    "%load_ext autoreload\n",
    "%autoreload 2\n",
    "\n",
    "from env import SimEnv, SimGoalEnv\n",
    "from train_helpers import evaluate, evaluate2, evaluate3, train"
   ]
  },
  {
   "cell_type": "markdown",
   "id": "b1a71035",
   "metadata": {},
   "source": [
    "# Params"
   ]
  },
  {
   "cell_type": "code",
   "execution_count": null,
   "id": "9a259820",
   "metadata": {},
   "outputs": [],
   "source": [
    "# this is needed because we have to create a new environment in the following step\n",
    "\n",
    "params = {\n",
    "    \"VERBOSE\": 1,\n",
    "    \"SETTING\": 'reduced4+',            # 'reduced', 'reduced2', 'reduced3', 'reduced3+', 'reduced4', 'reduced4+'\n",
    "    \"OBJ_SPACE_LOW\": np.array([-1.5, -1, -0.55, -0.44, -0.48, 0, -np.pi/2, -np.pi/2, -np.pi, -np.pi, -np.pi, -np.pi]), # observation-space (ee-pos, cyl-pos, joints)\n",
    "    \"OBJ_SPACE_HIGH\": np.array([1.5, 1.8, 2.2, 0.48, 0.44, 1.12, np.pi/2, np.pi/2, np.pi, np.pi, np.pi, np.pi]),\n",
    "    \"SPACE_NORM\": 0,                   #  1 -> yes, 0 -> no (normalize the action and observation space)\n",
    "    \"CYLINDER\": 'no',                  # 'no', fix', 'semi_random', 'semi_random_sides', 'half_table', '3/4-table', '7/8-table', 'whole_table'\n",
    "    \"BUFFER_SIZE\": 1600,\n",
    "    \"THRESHOLD\": 0.2,                  # initial treshold\n",
    "    \"THRESHOLD_SCHEDULING\": 1,         # 1-> yes, 0-> no\n",
    "    \"MIN_THRESHOLD\": 0.01,\n",
    "    \"REWARD_TYPE\": 'sparse',           # 'sparse', 'dense', 'extra_dense'\n",
    "    \"LEARNING_STARTS\": 1,              # number of random movements before learning starts,#\n",
    "    \"TOGGLE_REWARD\": 0,\n",
    "    \"STEPS\": 1000,                     # number of steps while training (=num_episodes when MAX_EPISODE_LEGTH is 1)\n",
    "    \"MAX_EPISODE_LENGTH\": 1,           # 'None' (no limit) or value \n",
    "    \"EXPLORATION\": 1,                  # just let it on 1 and ignore it\n",
    "    \"WRITER\": writer,\n",
    "    \"USE_HER\": 1,                      # 1-> yes, 0-> no\n",
    "    \"ENTROPY_COEFFICIENT\": 0.007,      # 'auto' or value between 0 and 1 // 0.007 turned out to work well\n",
    "    \"GLOBAL_STEPPER\": 0, \n",
    "    \"EVALUATION_STEPS\": eval_steps,    # number of evaluation steps per investigates treshold (x4)\n",
    "    \"EVALS\": [0.10, 0.07, 0.05, 0.03], # here, the list MUST contain always 4 tresholds for evaluation\n",
    "    \"BATCH_SIZE\": 64,\n",
    "    \"ACTION_NOISE\": None,\n",
    "    \"RANDOM_EXPLORATION\": 0.0,\n",
    "    \"LR\": 3e-4,\n",
    "    \"TB_LOGGER\": None}\n",
    "\n",
    "if model_to_eval == \"TD3\":\n",
    "    params[\"OBJ_SPACE_LOW\"] = np.array([-0.92, -0.51, 0.58, -0.44, -0.48, 0, -np.pi/2, -np.pi/2, -0.001, -np.pi/2, -0.001, -np.pi])\n",
    "    params[\"OBJ_SPACE_HIGH\"] = np.array([0.92, 1.32, 2.07, 0.48, 0.44, 1.12, np.pi/2, 0.001, np.pi, np.pi/2, np.pi, np.pi])\n",
    "    params[\"SPACE_NORM\"] = 1\n",
    "    params[\"BUFFER_SIZE\"] = 2000\n",
    "    params[\"BATCH_SIZE\"] = 100\n",
    "elif model_to_eval == \"SAC_4joints\":\n",
    "    params[\"USE_HER\"] = 0\n",
    "    params[\"SPACE_NORM\"] = 1\n",
    "elif model_to_eval == \"SAC_6joints\":\n",
    "    params[\"SETTING\"] = 'full_constrained'\n",
    "else:\n",
    "    print(\"Choose a valid model name.\")"
   ]
  },
  {
   "cell_type": "markdown",
   "id": "94866152",
   "metadata": {},
   "source": [
    "# Create Environment"
   ]
  },
  {
   "cell_type": "code",
   "execution_count": null,
   "id": "6bf15690",
   "metadata": {},
   "outputs": [],
   "source": [
    "# create a experiment (connection)\n",
    "exp = eaw.ExperimentWrapper()\n",
    "\n",
    "# test if simulation can be reached\n",
    "server_id = exp.client.test()\n",
    "if server_id:\n",
    "    print(\"Simulation is available, id: \", server_id)\n",
    "else:\n",
    "    print(\"Simulation NOT available\")\n",
    "    \n",
    "# make a new environment\n",
    "env = None\n",
    "if params[\"USE_HER\"] == 1:\n",
    "    env = SimGoalEnv(exp, params, writer)\n",
    "else:\n",
    "    env = SimEnv(exp, params, writer)\n",
    "    \n",
    "# check env\n",
    "# env_checker.check_env(env)"
   ]
  },
  {
   "cell_type": "markdown",
   "id": "fdceabb8",
   "metadata": {},
   "source": [
    "# Load Model"
   ]
  },
  {
   "cell_type": "code",
   "execution_count": null,
   "id": "3aa909dd",
   "metadata": {},
   "outputs": [],
   "source": [
    "# load model\n",
    "model_path = None\n",
    "if model_to_eval == \"TD3\":\n",
    "    model_path = \"./saved_models/\" + \"TD3_0.2_dense_reduced4+_10000_20210729-123802\"\n",
    "elif model_to_eval == \"SAC_4joints\":\n",
    "    model_path = \"./saved_models/\" + \"SAC_0.04_sparse_reduced4+_4000_0_20210713-113846\"\n",
    "elif model_to_eval == \"SAC_6joints\":\n",
    "    model_path = \"./saved_models/\" + \"SAC_0.03_sparse_full_constrained_18000_1_20210918-235627\"\n",
    "else:\n",
    "    print(\"Choose a valid model name.\")\n",
    "\n",
    "    \n",
    "##########\n",
    "# no HER #\n",
    "##########\n",
    "if model_to_eval ==  \"SAC_4joints\":\n",
    "    model = SAC.load(model_path)\n",
    "\n",
    "##########\n",
    "#   HER  #\n",
    "##########\n",
    "# if her -> env has also to be given\n",
    "elif model_to_eval ==  \"TD3\":\n",
    "    model = TD3.load(model_path, env)\n",
    "elif model_to_eval ==  \"SAC_6joints\":\n",
    "    model = SAC.load(model_path, env)"
   ]
  },
  {
   "cell_type": "markdown",
   "id": "76f7b69c",
   "metadata": {},
   "source": [
    "# Set Environment"
   ]
  },
  {
   "cell_type": "code",
   "execution_count": null,
   "id": "93eb17f8",
   "metadata": {},
   "outputs": [],
   "source": [
    "# change env in model\n",
    "model.set_env(env)"
   ]
  },
  {
   "cell_type": "markdown",
   "id": "2c3157d9",
   "metadata": {},
   "source": [
    "# Evaluate Model"
   ]
  },
  {
   "cell_type": "code",
   "execution_count": null,
   "id": "c2ffd126",
   "metadata": {},
   "outputs": [],
   "source": [
    "# disable plotting while evaluation because of some issues with inconsistent lengths\n",
    "env.set_eval(ev=True)\n",
    "\n",
    "\n",
    "#####################\n",
    "# normal evaluation #\n",
    "#####################\n",
    "#evaluate(model, env, params, writer)\n",
    "\n",
    "\n",
    "###################\n",
    "# fast evaluation # -> with color encouded scatterplot !\n",
    "###################\n",
    "evaluate3(model, env, params, writer)"
   ]
  },
  {
   "cell_type": "code",
   "execution_count": null,
   "id": "20d8ba65",
   "metadata": {},
   "outputs": [],
   "source": []
  }
 ],
 "metadata": {
  "kernelspec": {
   "display_name": "Python 3",
   "language": "python",
   "name": "python3"
  },
  "language_info": {
   "codemirror_mode": {
    "name": "ipython",
    "version": 3
   },
   "file_extension": ".py",
   "mimetype": "text/x-python",
   "name": "python",
   "nbconvert_exporter": "python",
   "pygments_lexer": "ipython3",
   "version": "3.8.5"
  }
 },
 "nbformat": 4,
 "nbformat_minor": 5
}
