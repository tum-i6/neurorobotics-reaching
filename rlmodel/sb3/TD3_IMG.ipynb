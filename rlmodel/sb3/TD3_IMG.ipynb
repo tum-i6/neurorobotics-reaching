{
 "cells": [
  {
   "cell_type": "markdown",
   "source": [
    "# Imports"
   ],
   "metadata": {}
  },
  {
   "cell_type": "code",
   "execution_count": null,
   "source": [
    "# general imports\n",
    "import sys                       \n",
    "import numpy as np\n",
    "import time\n",
    "\n",
    "# gym for spaces and environment definitions\n",
    "import gym\n",
    "# env checker\n",
    "from stable_baselines3.common import env_checker\n",
    "\n",
    "# find nan and inf values propagating quietly in the network\n",
    "from stable_baselines3.common.vec_env import DummyVecEnv, VecCheckNan\n",
    "\n",
    "# stable baselines3 -> TD3\n",
    "from stable_baselines3 import TD3\n",
    "\n",
    "# stbale baselines3 -> HER\n",
    "from stable_baselines3.her.her_replay_buffer import HerReplayBuffer\n",
    "from stable_baselines3.her.goal_selection_strategy import GoalSelectionStrategy\n",
    "\n",
    "# Tensorboard\n",
    "from torch.utils.tensorboard import SummaryWriter\n",
    "\n",
    "# grpc communication\n",
    "sys.path.insert(1, '/tum_nrp/grpc/python/communication')\n",
    "import experiment_api_wrapper as eaw\n",
    "\n",
    "# for auto-reloading external modules see http://stackoverflow.com/questions/1907993/autoreload-of-modules-in-ipython\n",
    "%load_ext autoreload\n",
    "%autoreload 2\n",
    "\n",
    "from env import SimEnv, SimGoalEnv\n",
    "from train_helpers import evaluate3, train"
   ],
   "outputs": [],
   "metadata": {}
  },
  {
   "cell_type": "markdown",
   "source": [
    "# Image Data"
   ],
   "metadata": {}
  },
  {
   "cell_type": "code",
   "execution_count": null,
   "source": [
    "# for path minipulation\n",
    "import os\n",
    "\n",
    "# tensor Operations\n",
    "import torch\n",
    "\n",
    "# custom dataset class for the extraction of the coordintes from the image data\n",
    "os.chdir('/tum_nrp/rlmodel/image_processing/src/')\n",
    "from custom_dataset import CMLRPiDataset\n",
    "from transform_nonzeros import non_zeros\n",
    "os.chdir('/tum_nrp/rlmodel/sb3')\n",
    "\n",
    "# dataset and dataloaders\n",
    "from torch.utils.data import Dataset, DataLoader\n",
    "\n",
    "# transforms for the transformation of the custom dataset\n",
    "try:\n",
    "    from torchvision import transforms\n",
    "except ModuleNotFoundError:\n",
    "    !pip install torchvision\n",
    "    from torchvision import transforms"
   ],
   "outputs": [],
   "metadata": {}
  },
  {
   "cell_type": "code",
   "execution_count": null,
   "source": [
    "# path to the folder of the dataset \n",
    "DATASET_PATH = \"/tum_nrp/rlmodel/image_processing/data/\"\n",
    "# path to the folder where models are saved\n",
    "CHECKPOINT_PATH = \"/tum_nrp/rlmodel/image_processing/saved_models/\"\n",
    "\n",
    "# number of workers for the dataloader\n",
    "num_workers = 0\n",
    "batch_size = 1 # has to be one!\n",
    "\n",
    "# width and height of the table in the images captured by the top mounted camera\n",
    "width = 120\n",
    "height = 116\n",
    "\n",
    "# image transformations\n",
    "transform=transforms.Compose([non_zeros(float(width), float(height))])    \n",
    "\n",
    "# create the dataset\n",
    "dataset = CMLRPiDataset(\n",
    "    root_dir=DATASET_PATH,\n",
    "    data_pi_name ='training_data.pt',\n",
    "    mask_pi_name = 'no_cylinder.pt',\n",
    "    threshold=200,\n",
    "    transform=transform\n",
    ")\n",
    "\n",
    "# retrive the number of samples in the dataset \n",
    "dataset_len = dataset.__len__()\n",
    "\n",
    "\n",
    "# split the dataset in test train and valdatuion\n",
    "train_set, test_set = torch.utils.data.random_split(dataset, [int(dataset.__len__()*0.7),  \n",
    "                                                                (dataset.__len__()-int(dataset.__len__()*0.7))])\n",
    "\n",
    "# definition of the corresponding data loaders\n",
    "train_loader = DataLoader(train_set, batch_size=batch_size, shuffle=True, drop_last=True, pin_memory=True, num_workers=num_workers)\n",
    "test_loader = DataLoader(test_set, batch_size=batch_size, shuffle=False, drop_last=False, num_workers=num_workers)\n",
    "\n",
    "# sanity check\n",
    "\n",
    "# retrive the first batch of the training data\n",
    "dataiter = iter(train_loader)\n",
    "\n",
    "error_x = 0\n",
    "error_y = 0\n",
    "\n",
    "# caculate the average error of the detected x and y value for the fist batch\n",
    "for _ in range(len(train_loader)):\n",
    "    for i in range(batch_size):\n",
    "        cyl_loc, labels = dataiter.next()\n",
    "        error_x += abs((labels[i][0])-(cyl_loc[i][0]))\n",
    "        error_y += abs((labels[i][1])-(cyl_loc[i][1]))\n",
    "print(error_x/(batch_size*len(train_loader)), error_y/(batch_size*len(train_loader)))"
   ],
   "outputs": [],
   "metadata": {}
  },
  {
   "cell_type": "markdown",
   "source": [
    "# Parameters"
   ],
   "metadata": {}
  },
  {
   "cell_type": "code",
   "execution_count": null,
   "source": [
    "params = {\n",
    "    \"VERBOSE\": 1,\n",
    "    \"SETTING\": 'reduced4+',                 # 'reduced', 'reduced2', 'reduced3', 'reduced3+', 'reduced4', 'reduced4+', 'full'\n",
    "    \"OBJ_SPACE_LOW\": np.array([-0.92, -0.51, 0.58, -0.44, -0.48, 0, -np.pi/2, -np.pi/2, -0.001, -np.pi/2, -0.001, -np.pi]), # observation-space (ee-pos, cyl-pos, joints)\n",
    "    \"OBJ_SPACE_HIGH\": np.array([0.92, 1.32, 2.07, 0.48, 0.44, 1.12, np.pi/2, 0.001, np.pi, np.pi/2, np.pi, np.pi]),\n",
    "    \"SPACE_NORM\": 1,                   #  1 -> yes, 0 -> no (normalize the action and observation space)\n",
    "    \"CYLINDER\": 'no',         # 'no'(no augmentation), fix', 'semi_random', 'semi_random_sides', 'half_table', '3/4-table', '7/8-table', 'whole_table'\n",
    "    \"BUFFER_SIZE\": 2000,\n",
    "    \"THRESHOLD\": 0.2,                  # initial treshold\n",
    "    \"THRESHOLD_SCHEDULING\": 1,         # 1-> yes, 0-> no\n",
    "    \"MIN_THRESHOLD\": 0.02,\n",
    "    \"REWARD_TYPE\": 'dense',            # 'sparse', 'dense', 'extra_dense'\n",
    "    \"LEARNING_STARTS\": 100,            # number of random movements before learning starts,#\n",
    "    \"TOGGLE_REWARD\": 0,\n",
    "    \"STEPS\": 10000,                     # number of steps while training (=num_episodes when MAX_EPISODE_LEGTH is 1)\n",
    "    \"MAX_EPISODE_LENGTH\": 1,           # 'None' (no limit) or value \n",
    "    \"EXPLORATION\": 1,                  # just let it on 1 and ignore it\n",
    "    \"USE_HER\": 1,                      # 1-> yes, 0-> no\n",
    "    \"GLOBAL_STEPPER\": 0, \n",
    "    \"EVALUATION_STEPS\": 500,           # number of evaluation steps per investigates treshold (x4)\n",
    "    \"EVALS\": [0.10, 0.07, 0.05, 0.03],  # here, the list MUST contain always 4 tresholds for evaluation\n",
    "    \"BATCH_SIZE\": 100,\n",
    "    \"ACTION_NOISE\": None,\n",
    "    \"LR\": 1e-3,\n",
    "# image specific\n",
    "    \"img_pi_data\": 1,\n",
    "    \"train_loader\": train_loader,\n",
    "    \"test_loader\": test_loader,\n",
    "# td3 specific\n",
    "    \"TARGET_POLICY_NOISE\": 0.2,\n",
    "    \"TARGET_NOISE_CLIP\": 0.5}"
   ],
   "outputs": [],
   "metadata": {}
  },
  {
   "cell_type": "markdown",
   "source": [
    "# Continue Training\n",
    "\n",
    "This part enables us to continue the training.\n",
    "(e.g. when results are likely to improve with some more episodes)."
   ],
   "metadata": {}
  },
  {
   "cell_type": "code",
   "execution_count": null,
   "source": [
    "##############\n",
    "# load model #\n",
    "##############\n",
    "exp = eaw.ExperimentWrapper()\n",
    "load_file_name = \"TD3_0.2_dense_reduced4+_10000_20210729-123802\"\n",
    "writer = SummaryWriter(log_dir=f\"tensorboard_log/{load_file_name}/\") # set up tensorboard storage\n",
    "\n",
    "# test if simulation can be reached\n",
    "server_id = exp.client.test()\n",
    "if server_id:\n",
    "    print(\"Simulation is available, id: \", server_id)\n",
    "else:\n",
    "    print(\"Simulation NOT available\")\n",
    "\n",
    "# make a new environment\n",
    "if params[\"USE_HER\"] == 1:\n",
    "    env = SimGoalEnv(exp, params, writer)\n",
    "else:\n",
    "    env = SimEnv(exp, params, writer)\n",
    "    \n",
    "# check env\n",
    "env.set_eval(ev=True)\n",
    "# env_checker.check_env(env)\n",
    "\n",
    "model=TD3.load('./saved_models/'+load_file_name, env=env)"
   ],
   "outputs": [],
   "metadata": {}
  },
  {
   "cell_type": "markdown",
   "source": [
    "Skip the next cell if you just want to evaluate the model."
   ],
   "metadata": {}
  },
  {
   "cell_type": "code",
   "execution_count": null,
   "source": [
    "#####################\n",
    "# continue training # \n",
    "#####################\n",
    "\n",
    "# make adjustments\n",
    "params[\"STEPS\"] = 2000 \n",
    "\n",
    "# set up logging\n",
    "exp = eaw.ExperimentWrapper()\n",
    "server_id = exp.client.test()\n",
    "if server_id:\n",
    "    print(\"Simulation is available, id: \", server_id)\n",
    "else:\n",
    "    print(\"Simulation NOT available\")\n",
    "timestr = time.strftime(\"%Y%m%d-%H%M%S\")\n",
    "file_name = f\"Leander_TD3_{params['THRESHOLD']}_{params['REWARD_TYPE']}_{params['SETTING']}_{params['STEPS']}_{timestr}\"\n",
    "writer = SummaryWriter(log_dir=f\"tensorboard_log/{file_name}/\") # set up tensorboard storage\n",
    "\n",
    "# make a new environment\n",
    "if params[\"USE_HER\"] == 1:\n",
    "    env = SimGoalEnv(exp, params, writer)\n",
    "else:\n",
    "    env = SimEnv(exp, params, writer)\n",
    "    \n",
    "# check env\n",
    "# env_checker.check_env(env)\n",
    "model=TD3.load('./saved_models/'+load_file_name, env=env)\n",
    "\n",
    "# change env in model\n",
    "model.set_env(env)\n",
    "model.tensorboard_log=f\"tensorboard_log/{file_name}/\"\n",
    "\n",
    "if params[\"USE_HER\"] == 1:\n",
    "    # start training\n",
    "    train(model, env, params)\n",
    "else:\n",
    "    # start training (without train method)\n",
    "    model.learn(params[\"STEPS\"])\n",
    "\n",
    "model.save('./saved_models/'+file_name)\n",
    "model.get_parameters()"
   ],
   "outputs": [],
   "metadata": {}
  },
  {
   "cell_type": "code",
   "execution_count": null,
   "source": [
    "##############\n",
    "# save model #\n",
    "##############\n",
    "model.save('./saved_models/'+file_name)\n",
    "model.get_parameters()"
   ],
   "outputs": [],
   "metadata": {}
  },
  {
   "cell_type": "code",
   "execution_count": null,
   "source": [
    "####################\n",
    "# model evaluation #\n",
    "####################\n",
    "\n",
    "# disable plotting while evaluation because of some issues with inconsistent lengths\n",
    "env.set_eval(ev=True)\n",
    "\n",
    "evaluate3(model, env, params, writer, max_threshold=max(params[\"EVALS\"]))"
   ],
   "outputs": [],
   "metadata": {
    "scrolled": true
   }
  },
  {
   "cell_type": "code",
   "execution_count": null,
   "source": [],
   "outputs": [],
   "metadata": {}
  }
 ],
 "metadata": {
  "kernelspec": {
   "name": "python3",
   "display_name": "Python 3.7.9 64-bit ('py37': conda)"
  },
  "language_info": {
   "codemirror_mode": {
    "name": "ipython",
    "version": 3
   },
   "file_extension": ".py",
   "mimetype": "text/x-python",
   "name": "python",
   "nbconvert_exporter": "python",
   "pygments_lexer": "ipython3",
   "version": "3.7.9"
  },
  "interpreter": {
   "hash": "b5c70f3ce260f07d3ef57832066bd96015b7effc78c152496073c82418194b39"
  }
 },
 "nbformat": 4,
 "nbformat_minor": 5
}